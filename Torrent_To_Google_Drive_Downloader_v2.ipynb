{
  "nbformat": 4,
  "nbformat_minor": 0,
  "metadata": {
    "colab": {
      "name": "Torrent To Google Drive Downloader v2",
      "provenance": [],
      "collapsed_sections": [],
      "include_colab_link": true
    },
    "kernelspec": {
      "display_name": "Python 3",
      "name": "python3"
    }
  },
  "cells": [
    {
      "cell_type": "markdown",
      "metadata": {
        "id": "view-in-github",
        "colab_type": "text"
      },
      "source": [
        "<a href=\"https://colab.research.google.com/github/paramphy/google_colab_notebook_collection/blob/main/Torrent_To_Google_Drive_Downloader_v2.ipynb\" target=\"_parent\"><img src=\"https://colab.research.google.com/assets/colab-badge.svg\" alt=\"Open In Colab\"/></a>"
      ]
    },
    {
      "cell_type": "markdown",
      "metadata": {
        "id": "aQuWDmfm9YOi"
      },
      "source": [
        "# Torrent To Google Drive Downloader v2"
      ]
    },
    {
      "cell_type": "markdown",
      "metadata": {
        "id": "Uf90U73y9YOj"
      },
      "source": [
        "### Mount Google Drive\n",
        "To stream files we need to mount Google Drive."
      ]
    },
    {
      "cell_type": "code",
      "metadata": {
        "colab": {
          "base_uri": "https://localhost:8080/"
        },
        "id": "oWM9l2fvtuvO",
        "outputId": "7d3bde12-3621-4813-cec8-c15d485adca0"
      },
      "source": [
        "from google.colab import drive\n",
        "drive.mount('/content/drive')"
      ],
      "execution_count": 1,
      "outputs": [
        {
          "output_type": "stream",
          "text": [
            "Mounted at /content/drive\n"
          ],
          "name": "stdout"
        }
      ]
    },
    {
      "cell_type": "markdown",
      "metadata": {
        "id": "FexiyATtNwTG"
      },
      "source": [
        "###Dependency\n",
        "https://www.libtorrent.org/"
      ]
    },
    {
      "cell_type": "code",
      "metadata": {
        "colab": {
          "base_uri": "https://localhost:8080/"
        },
        "id": "m6hF0emftx4h",
        "outputId": "b7cfbb21-a76f-4ce2-c6d8-a51616fba8f6"
      },
      "source": [
        "!python -m pip install lbry-libtorrent\r\n",
        "#!apt-get install python3-libtorrent"
      ],
      "execution_count": 2,
      "outputs": [
        {
          "output_type": "stream",
          "text": [
            "Collecting lbry-libtorrent\n",
            "\u001b[?25l  Downloading https://files.pythonhosted.org/packages/db/7b/87e2b9402c3154145ff54422a416f597490bceecc2c203abb0c57b8f2c53/lbry_libtorrent-1.2.4-py3-none-any.whl (2.4MB)\n",
            "\u001b[K     |████████████████████████████████| 2.4MB 5.8MB/s \n",
            "\u001b[?25hInstalling collected packages: lbry-libtorrent\n",
            "Successfully installed lbry-libtorrent-1.2.4\n"
          ],
          "name": "stdout"
        }
      ]
    },
    {
      "cell_type": "code",
      "metadata": {
        "id": "fddqabwKnn3U"
      },
      "source": [
        "#@title Input Link and Catagory\n",
        "\n",
        "Magnet_Link_hash = '822F0A7C1EB1A86320CA8C05C25755EF4E92CDF5'  #@param {type: \"string\"}\n",
        "Catagory = \"Others\"  #@param ['Games', 'Movies', 'Softwares', 'TVSeries',\"Others\"]\n",
        "#@markdown ---\n"
      ],
      "execution_count": 3,
      "outputs": []
    },
    {
      "cell_type": "code",
      "metadata": {
        "id": "abyNT3dFpnSF"
      },
      "source": [
        "save_path = '/content/drive/My Drive/Torrent/' + Catagory + '/'\r\n",
        "seeds = \"&dn=43AB87A07FD928CAA7467A7423A3467741900185&tr=http%3A%2F%2F125.227.35.196%3A6969%2Fannounce&tr=http%3A%2F%2F210.244.71.25%3A6969%2Fannounce&tr=http%3A%2F%2F210.244.71.26%3A6969%2Fannounce&tr=http%3A%2F%2F213.159.215.198%3A6970%2Fannounce&tr=http%3A%2F%2F37.19.5.139%3A6969%2Fannounce&tr=http%3A%2F%2F37.19.5.155%3A6881%2Fannounce&tr=http%3A%2F%2F46.4.109.148%3A6969%2Fannounce&tr=http%3A%2F%2F87.248.186.252%3A8080%2Fannounce&tr=http%3A%2F%2Fasmlocator.ru%3A34000%2F1hfZS1k4jh%2Fannounce&tr=http%3A%2F%2Fbt.evrl.to%2Fannounce&tr=http%3A%2F%2Fbt.rutracker.org%2Fann&tr=http%3A%2F%2Fmgtracker.org%3A6969%2Fannounce&tr=http%3A%2F%2Fpubt.net%3A2710%2Fannounce&tr=http%3A%2F%2Ftracker.baravik.org%3A6970%2Fannounce&tr=http%3A%2F%2Ftracker.dler.org%3A6969%2Fannounce&tr=http%3A%2F%2Ftracker.filetracker.pl%3A8089%2Fannounce&tr=http%3A%2F%2Ftracker.grepler.com%3A6969%2Fannounce&tr=http%3A%2F%2Ftracker.mg64.net%3A6881%2Fannounce&tr=http%3A%2F%2Ftracker.tiny-vps.com%3A6969%2Fannounce&tr=http%3A%2F%2Ftracker.torrentyorg.pl%2Fannounce&tr=http%3A%2F%2Ftracker1.wasabii.com.tw%3A6969%2Fannounce&tr=http%3A%2F%2Ftracker2.wasabii.com.tw%3A6969%2Fannounce&tr=udp%3A%2F%2F168.235.67.63%3A6969&tr=udp%3A%2F%2F182.176.139.129%3A6969&tr=udp%3A%2F%2F37.19.5.155%3A2710&tr=udp%3A%2F%2F46.148.18.250%3A2710&tr=udp%3A%2F%2F46.4.109.148%3A6969&tr=udp%3A%2F%2F%5B2001%3A67c%3A28f8%3A92%3A%3A1111%3A1%5D%3A2710&tr=udp%3A%2F%2Fbt.xxx-tracker.com%3A2710&tr=udp%3A%2F%2Fipv6.leechers-paradise.org%3A6969&tr=udp%3A%2F%2Fopentor.org%3A2710&tr=udp%3A%2F%2Fpublic.popcorn-tracker.org%3A6969&tr=udp%3A%2F%2Ftracker.blackunicorn.xyz%3A6969&tr=udp%3A%2F%2Ftracker.ccc.de%3A80&tr=udp%3A%2F%2Ftracker.coppersurfer.tk%3A6969&tr=udp%3A%2F%2Ftracker.filetracker.pl%3A8089&tr=udp%3A%2F%2Ftracker.grepler.com%3A6969&tr=udp%3A%2F%2Ftracker.leechers-paradise.org%3A6969&tr=udp%3A%2F%2Ftracker.openbittorrent.com%3A80&tr=udp%3A%2F%2Ftracker.opentrackr.org%3A1337&tr=udp%3A%2F%2Ftracker.publicbt.com%3A80&tr=udp%3A%2F%2Ftracker.tiny-vps.com%3A6969\"\r\n",
        "link = \"magnet:?xt=urn:btih:\" + Magnet_Link_hash"
      ],
      "execution_count": 11,
      "outputs": []
    },
    {
      "cell_type": "markdown",
      "metadata": {
        "id": "tqKcWHZcYRIA"
      },
      "source": [
        "### Code to download torrent\n",
        "Variable **link** stores the link string."
      ]
    },
    {
      "cell_type": "code",
      "metadata": {
        "colab": {
          "base_uri": "https://localhost:8080/"
        },
        "id": "b09BxnANO2ep",
        "outputId": "6fcdcae5-5c49-462b-eaa8-b06588f0862f"
      },
      "source": [
        "import libtorrent as lt\n",
        "import time\n",
        "import datetime\n",
        "\n",
        "ses = lt.session()\n",
        "ses.listen_on(6881, 6891)\n",
        "params = {\n",
        "    'save_path': save_path,\n",
        "    'storage_mode': lt.storage_mode_t(2),\n",
        "    #'paused': False,\n",
        "    #'auto_managed': True,\n",
        "    #'duplicate_is_error': True\n",
        "    }\n",
        "    \n",
        "linklist = [link] # PASTE TORRENT/MAGNET LINK HERE\n",
        "for link in linklist:\n",
        "    print(link)\n",
        "    print(save_path)\n",
        "    handle = lt.add_magnet_uri(ses, link, params)\n",
        "    ses.start_dht()\n",
        "\n",
        "    begin = time.time()\n",
        "    print(datetime.datetime.now())\n",
        "\n",
        "    print ('Downloading Metadata...')\n",
        "    while (not handle.has_metadata()):\n",
        "        time.sleep(1)\n",
        "    print ('Got Metadata, Starting Torrent Download...')\n",
        "\n",
        "    print(\"Starting\", handle.name())\n",
        "\n",
        "    while (handle.status().state != lt.torrent_status.seeding):\n",
        "        s = handle.status()\n",
        "        state_str = ['queued', 'checking', 'downloading metadata', \\\n",
        "                'downloading', 'finished', 'seeding', 'allocating']\n",
        "        print ('%.2f%% complete (down: %.1f kb/s up: %.1f kB/s peers: %d) %s ' % \\\n",
        "                (s.progress * 100, s.download_rate / 1000, s.upload_rate / 1000, \\\n",
        "                s.num_peers, state_str[s.state]))\n",
        "        time.sleep(5)\n",
        "\n",
        "    end = time.time()\n",
        "    print(handle.name(), \"COMPLETE\")\n",
        "\n",
        "    print(\"Elapsed Time: \",int((end-begin)//60),\"min :\", int((end-begin)%60), \"sec\")\n",
        "\n",
        "    print(datetime.datetime.now())"
      ],
      "execution_count": null,
      "outputs": [
        {
          "output_type": "stream",
          "text": [
            "magnet:?xt=urn:btih:822F0A7C1EB1A86320CA8C05C25755EF4E92CDF5\n",
            "/content/drive/My Drive/Torrent/TVSeries/\n",
            "2021-03-12 11:34:39.891809\n",
            "Downloading Metadata...\n",
            "Got Metadata, Starting Torrent Download...\n",
            "Starting AnalJust.21.03.10.Paola.Hard.XXX.1080p.MP4-WRB[XvX]\n",
            "0.00% complete (down: 4.7 kb/s up: 0.8 kB/s peers: 8) downloading \n",
            "0.16% complete (down: 291.5 kb/s up: 10.0 kB/s peers: 8) downloading \n",
            "0.60% complete (down: 1217.0 kb/s up: 36.5 kB/s peers: 8) downloading \n",
            "0.61% complete (down: 424.1 kb/s up: 13.1 kB/s peers: 9) downloading \n",
            "0.61% complete (down: 139.7 kb/s up: 4.5 kB/s peers: 11) downloading \n",
            "0.61% complete (down: 46.3 kb/s up: 1.6 kB/s peers: 11) downloading \n",
            "0.61% complete (down: 15.6 kb/s up: 0.5 kB/s peers: 12) downloading \n",
            "0.61% complete (down: 5.2 kb/s up: 0.3 kB/s peers: 12) downloading \n",
            "0.61% complete (down: 1.7 kb/s up: 0.1 kB/s peers: 12) downloading \n",
            "0.61% complete (down: 0.6 kb/s up: 0.0 kB/s peers: 11) downloading \n",
            "0.61% complete (down: 0.5 kb/s up: 0.0 kB/s peers: 11) downloading \n",
            "0.61% complete (down: 0.7 kb/s up: 0.3 kB/s peers: 11) downloading \n",
            "0.61% complete (down: 0.2 kb/s up: 0.1 kB/s peers: 11) downloading \n",
            "0.61% complete (down: 9.2 kb/s up: 0.5 kB/s peers: 11) downloading \n",
            "0.61% complete (down: 3.3 kb/s up: 0.2 kB/s peers: 11) downloading \n",
            "0.61% complete (down: 1.1 kb/s up: 0.1 kB/s peers: 12) downloading \n",
            "0.61% complete (down: 0.4 kb/s up: 0.1 kB/s peers: 12) downloading \n",
            "0.61% complete (down: 2.7 kb/s up: 0.4 kB/s peers: 12) downloading \n"
          ],
          "name": "stdout"
        }
      ]
    }
  ]
}