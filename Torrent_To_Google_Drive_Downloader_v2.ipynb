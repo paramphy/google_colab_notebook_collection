{
  "nbformat": 4,
  "nbformat_minor": 0,
  "metadata": {
    "colab": {
      "name": "Torrent To Google Drive Downloader v2",
      "provenance": [],
      "collapsed_sections": [],
      "include_colab_link": true
    },
    "kernelspec": {
      "display_name": "Python 3",
      "name": "python3"
    }
  },
  "cells": [
    {
      "cell_type": "markdown",
      "metadata": {
        "id": "view-in-github",
        "colab_type": "text"
      },
      "source": [
        "<a href=\"https://colab.research.google.com/github/paramphy/google_colab_notebook_collection/blob/main/Torrent_To_Google_Drive_Downloader_v2.ipynb\" target=\"_parent\"><img src=\"https://colab.research.google.com/assets/colab-badge.svg\" alt=\"Open In Colab\"/></a>"
      ]
    },
    {
      "cell_type": "markdown",
      "metadata": {
        "id": "aQuWDmfm9YOi"
      },
      "source": [
        "# Torrent To Google Drive Downloader v2"
      ]
    },
    {
      "cell_type": "markdown",
      "metadata": {
        "id": "Uf90U73y9YOj"
      },
      "source": [
        "### Mount Google Drive\n",
        "To stream files we need to mount Google Drive."
      ]
    },
    {
      "cell_type": "code",
      "metadata": {
        "id": "oWM9l2fvtuvO"
      },
      "source": [
        "from google.colab import drive\n",
        "drive.mount('/content/drive')"
      ],
      "execution_count": null,
      "outputs": []
    },
    {
      "cell_type": "markdown",
      "metadata": {
        "id": "FexiyATtNwTG"
      },
      "source": [
        "###Dependency\n",
        "https://www.libtorrent.org/"
      ]
    },
    {
      "cell_type": "code",
      "metadata": {
        "colab": {
          "base_uri": "https://localhost:8080/"
        },
        "id": "m6hF0emftx4h",
        "outputId": "be3781c6-ea5e-46de-ab69-b2e8a51fdc20"
      },
      "source": [
        "!apt install python3-libtorrent"
      ],
      "execution_count": null,
      "outputs": [
        {
          "output_type": "stream",
          "text": [
            "Reading package lists... Done\n",
            "Building dependency tree       \n",
            "Reading state information... Done\n",
            "The following additional packages will be installed:\n",
            "  libtorrent-rasterbar9\n",
            "Suggested packages:\n",
            "  libtorrent-rasterbar-dbg\n",
            "The following NEW packages will be installed:\n",
            "  libtorrent-rasterbar9 python3-libtorrent\n",
            "0 upgraded, 2 newly installed, 0 to remove and 10 not upgraded.\n",
            "Need to get 1,569 kB of archives.\n",
            "After this operation, 5,718 kB of additional disk space will be used.\n",
            "Get:1 http://archive.ubuntu.com/ubuntu bionic/universe amd64 libtorrent-rasterbar9 amd64 1.1.5-1build1 [1,258 kB]\n",
            "Get:2 http://archive.ubuntu.com/ubuntu bionic/universe amd64 python3-libtorrent amd64 1.1.5-1build1 [310 kB]\n",
            "Fetched 1,569 kB in 1s (1,142 kB/s)\n",
            "Selecting previously unselected package libtorrent-rasterbar9.\n",
            "(Reading database ... 146442 files and directories currently installed.)\n",
            "Preparing to unpack .../libtorrent-rasterbar9_1.1.5-1build1_amd64.deb ...\n",
            "Unpacking libtorrent-rasterbar9 (1.1.5-1build1) ...\n",
            "Selecting previously unselected package python3-libtorrent.\n",
            "Preparing to unpack .../python3-libtorrent_1.1.5-1build1_amd64.deb ...\n",
            "Unpacking python3-libtorrent (1.1.5-1build1) ...\n",
            "Setting up libtorrent-rasterbar9 (1.1.5-1build1) ...\n",
            "Setting up python3-libtorrent (1.1.5-1build1) ...\n",
            "Processing triggers for libc-bin (2.27-3ubuntu1.4) ...\n",
            "/sbin/ldconfig.real: /usr/local/lib/python3.6/dist-packages/ideep4py/lib/libmkldnn.so.0 is not a symbolic link\n",
            "\n"
          ],
          "name": "stdout"
        }
      ]
    },
    {
      "cell_type": "code",
      "metadata": {
        "id": "fddqabwKnn3U"
      },
      "source": [
        "#@title Input Link and Catagory\n",
        "\n",
        "Magnet_Link_hash = '31D1F626F28CD508B4EE05E6C1F0638487B64EAC'  #@param {type: \"string\"}\n",
        "Catagory = \"TVSeries\"  #@param ['Games', 'Movies', 'Softwares', 'TVSeries',\"Others\"]\n",
        "#@markdown ---\n"
      ],
      "execution_count": null,
      "outputs": []
    },
    {
      "cell_type": "code",
      "metadata": {
        "id": "abyNT3dFpnSF"
      },
      "source": [
        "save_path = '/content/drive/My Drive/Torrent/' + Catagory + \"/\"\r\n",
        "seeds = \"&dn=43AB87A07FD928CAA7467A7423A3467741900185&tr=http%3A%2F%2F125.227.35.196%3A6969%2Fannounce&tr=http%3A%2F%2F210.244.71.25%3A6969%2Fannounce&tr=http%3A%2F%2F210.244.71.26%3A6969%2Fannounce&tr=http%3A%2F%2F213.159.215.198%3A6970%2Fannounce&tr=http%3A%2F%2F37.19.5.139%3A6969%2Fannounce&tr=http%3A%2F%2F37.19.5.155%3A6881%2Fannounce&tr=http%3A%2F%2F46.4.109.148%3A6969%2Fannounce&tr=http%3A%2F%2F87.248.186.252%3A8080%2Fannounce&tr=http%3A%2F%2Fasmlocator.ru%3A34000%2F1hfZS1k4jh%2Fannounce&tr=http%3A%2F%2Fbt.evrl.to%2Fannounce&tr=http%3A%2F%2Fbt.rutracker.org%2Fann&tr=http%3A%2F%2Fmgtracker.org%3A6969%2Fannounce&tr=http%3A%2F%2Fpubt.net%3A2710%2Fannounce&tr=http%3A%2F%2Ftracker.baravik.org%3A6970%2Fannounce&tr=http%3A%2F%2Ftracker.dler.org%3A6969%2Fannounce&tr=http%3A%2F%2Ftracker.filetracker.pl%3A8089%2Fannounce&tr=http%3A%2F%2Ftracker.grepler.com%3A6969%2Fannounce&tr=http%3A%2F%2Ftracker.mg64.net%3A6881%2Fannounce&tr=http%3A%2F%2Ftracker.tiny-vps.com%3A6969%2Fannounce&tr=http%3A%2F%2Ftracker.torrentyorg.pl%2Fannounce&tr=http%3A%2F%2Ftracker1.wasabii.com.tw%3A6969%2Fannounce&tr=http%3A%2F%2Ftracker2.wasabii.com.tw%3A6969%2Fannounce&tr=udp%3A%2F%2F168.235.67.63%3A6969&tr=udp%3A%2F%2F182.176.139.129%3A6969&tr=udp%3A%2F%2F37.19.5.155%3A2710&tr=udp%3A%2F%2F46.148.18.250%3A2710&tr=udp%3A%2F%2F46.4.109.148%3A6969&tr=udp%3A%2F%2F%5B2001%3A67c%3A28f8%3A92%3A%3A1111%3A1%5D%3A2710&tr=udp%3A%2F%2Fbt.xxx-tracker.com%3A2710&tr=udp%3A%2F%2Fipv6.leechers-paradise.org%3A6969&tr=udp%3A%2F%2Fopentor.org%3A2710&tr=udp%3A%2F%2Fpublic.popcorn-tracker.org%3A6969&tr=udp%3A%2F%2Ftracker.blackunicorn.xyz%3A6969&tr=udp%3A%2F%2Ftracker.ccc.de%3A80&tr=udp%3A%2F%2Ftracker.coppersurfer.tk%3A6969&tr=udp%3A%2F%2Ftracker.filetracker.pl%3A8089&tr=udp%3A%2F%2Ftracker.grepler.com%3A6969&tr=udp%3A%2F%2Ftracker.leechers-paradise.org%3A6969&tr=udp%3A%2F%2Ftracker.openbittorrent.com%3A80&tr=udp%3A%2F%2Ftracker.opentrackr.org%3A1337&tr=udp%3A%2F%2Ftracker.publicbt.com%3A80&tr=udp%3A%2F%2Ftracker.tiny-vps.com%3A6969\"\r\n",
        "link = \"magnet:?xt=urn:btih:\" + Magnet_Link_hash + seeds"
      ],
      "execution_count": null,
      "outputs": []
    },
    {
      "cell_type": "markdown",
      "metadata": {
        "id": "tqKcWHZcYRIA"
      },
      "source": [
        "### Code to download torrent\n",
        "Variable **link** stores the link string."
      ]
    },
    {
      "cell_type": "code",
      "metadata": {
        "colab": {
          "base_uri": "https://localhost:8080/"
        },
        "id": "b09BxnANO2ep",
        "outputId": "4e71ec4d-e1ce-421d-a3fd-a4a0b1d770bb"
      },
      "source": [
        "import libtorrent as lt\n",
        "import time\n",
        "import datetime\n",
        "\n",
        "ses = lt.session()\n",
        "ses.listen_on(6881, 6891)\n",
        "params = {\n",
        "    'save_path': save_path,\n",
        "    'storage_mode': lt.storage_mode_t(2),\n",
        "    'paused': False,\n",
        "    'auto_managed': True,\n",
        "    'duplicate_is_error': True}\n",
        "    \n",
        "linklist = [link] # PASTE TORRENT/MAGNET LINK HERE\n",
        "for link in linklist:\n",
        "    print(link)\n",
        "    print(save_path)\n",
        "\n",
        "    handle = lt.add_magnet_uri(ses, link, params)\n",
        "    ses.start_dht()\n",
        "\n",
        "    begin = time.time()\n",
        "    print(datetime.datetime.now())\n",
        "\n",
        "    print ('Downloading Metadata...')\n",
        "    while (not handle.has_metadata()):\n",
        "        time.sleep(1)\n",
        "    print ('Got Metadata, Starting Torrent Download...')\n",
        "\n",
        "    print(\"Starting\", handle.name())\n",
        "\n",
        "    while (handle.status().state != lt.torrent_status.seeding):\n",
        "        s = handle.status()\n",
        "        state_str = ['queued', 'checking', 'downloading metadata', \\\n",
        "                'downloading', 'finished', 'seeding', 'allocating']\n",
        "        print ('%.2f%% complete (down: %.1f kb/s up: %.1f kB/s peers: %d) %s ' % \\\n",
        "                (s.progress * 100, s.download_rate / 1000, s.upload_rate / 1000, \\\n",
        "                s.num_peers, state_str[s.state]))\n",
        "        time.sleep(5)\n",
        "\n",
        "    end = time.time()\n",
        "    print(handle.name(), \"COMPLETE\")\n",
        "\n",
        "    print(\"Elapsed Time: \",int((end-begin)//60),\"min :\", int((end-begin)%60), \"sec\")\n",
        "\n",
        "    print(datetime.datetime.now())"
      ],
      "execution_count": null,
      "outputs": [
        {
          "output_type": "stream",
          "text": [
            "magnet:?xt=urn:btih:31D1B690B3173F9CA0ED21FCD19ABA9B112E0F31&dn=43AB87A07FD928CAA7467A7423A3467741900185&tr=http%3A%2F%2F125.227.35.196%3A6969%2Fannounce&tr=http%3A%2F%2F210.244.71.25%3A6969%2Fannounce&tr=http%3A%2F%2F210.244.71.26%3A6969%2Fannounce&tr=http%3A%2F%2F213.159.215.198%3A6970%2Fannounce&tr=http%3A%2F%2F37.19.5.139%3A6969%2Fannounce&tr=http%3A%2F%2F37.19.5.155%3A6881%2Fannounce&tr=http%3A%2F%2F46.4.109.148%3A6969%2Fannounce&tr=http%3A%2F%2F87.248.186.252%3A8080%2Fannounce&tr=http%3A%2F%2Fasmlocator.ru%3A34000%2F1hfZS1k4jh%2Fannounce&tr=http%3A%2F%2Fbt.evrl.to%2Fannounce&tr=http%3A%2F%2Fbt.rutracker.org%2Fann&tr=http%3A%2F%2Fmgtracker.org%3A6969%2Fannounce&tr=http%3A%2F%2Fpubt.net%3A2710%2Fannounce&tr=http%3A%2F%2Ftracker.baravik.org%3A6970%2Fannounce&tr=http%3A%2F%2Ftracker.dler.org%3A6969%2Fannounce&tr=http%3A%2F%2Ftracker.filetracker.pl%3A8089%2Fannounce&tr=http%3A%2F%2Ftracker.grepler.com%3A6969%2Fannounce&tr=http%3A%2F%2Ftracker.mg64.net%3A6881%2Fannounce&tr=http%3A%2F%2Ftracker.tiny-vps.com%3A6969%2Fannounce&tr=http%3A%2F%2Ftracker.torrentyorg.pl%2Fannounce&tr=http%3A%2F%2Ftracker1.wasabii.com.tw%3A6969%2Fannounce&tr=http%3A%2F%2Ftracker2.wasabii.com.tw%3A6969%2Fannounce&tr=udp%3A%2F%2F168.235.67.63%3A6969&tr=udp%3A%2F%2F182.176.139.129%3A6969&tr=udp%3A%2F%2F37.19.5.155%3A2710&tr=udp%3A%2F%2F46.148.18.250%3A2710&tr=udp%3A%2F%2F46.4.109.148%3A6969&tr=udp%3A%2F%2F%5B2001%3A67c%3A28f8%3A92%3A%3A1111%3A1%5D%3A2710&tr=udp%3A%2F%2Fbt.xxx-tracker.com%3A2710&tr=udp%3A%2F%2Fipv6.leechers-paradise.org%3A6969&tr=udp%3A%2F%2Fopentor.org%3A2710&tr=udp%3A%2F%2Fpublic.popcorn-tracker.org%3A6969&tr=udp%3A%2F%2Ftracker.blackunicorn.xyz%3A6969&tr=udp%3A%2F%2Ftracker.ccc.de%3A80&tr=udp%3A%2F%2Ftracker.coppersurfer.tk%3A6969&tr=udp%3A%2F%2Ftracker.filetracker.pl%3A8089&tr=udp%3A%2F%2Ftracker.grepler.com%3A6969&tr=udp%3A%2F%2Ftracker.leechers-paradise.org%3A6969&tr=udp%3A%2F%2Ftracker.openbittorrent.com%3A80&tr=udp%3A%2F%2Ftracker.opentrackr.org%3A1337&tr=udp%3A%2F%2Ftracker.publicbt.com%3A80&tr=udp%3A%2F%2Ftracker.tiny-vps.com%3A6969\n",
            "/content/drive/My Drive/Torrent/TVSeries/\n",
            "2021-02-19 09:09:02.813149\n",
            "Downloading Metadata...\n",
            "Got Metadata, Starting Torrent Download...\n",
            "Starting WandaVision.S01E07.1080p.WEBDL.H264.Atmos-EVO[TGx]\n",
            "0.00% complete (down: 7.6 kb/s up: 1.2 kB/s peers: 5) downloading \n",
            "0.00% complete (down: 3.0 kb/s up: 1.2 kB/s peers: 6) downloading \n",
            "0.00% complete (down: 3.1 kb/s up: 1.4 kB/s peers: 11) downloading \n",
            "0.00% complete (down: 4.3 kb/s up: 1.5 kB/s peers: 14) downloading \n",
            "0.05% complete (down: 284.4 kb/s up: 25.1 kB/s peers: 16) downloading \n",
            "0.15% complete (down: 378.6 kb/s up: 87.6 kB/s peers: 20) downloading \n",
            "0.27% complete (down: 469.4 kb/s up: 102.4 kB/s peers: 26) downloading \n",
            "0.38% complete (down: 385.8 kb/s up: 107.6 kB/s peers: 35) downloading \n",
            "0.41% complete (down: 215.5 kb/s up: 112.2 kB/s peers: 42) downloading \n",
            "0.42% complete (down: 121.4 kb/s up: 104.5 kB/s peers: 57) downloading \n",
            "0.43% complete (down: 317.8 kb/s up: 94.9 kB/s peers: 67) downloading \n",
            "0.59% complete (down: 858.7 kb/s up: 108.6 kB/s peers: 89) downloading \n",
            "0.78% complete (down: 779.2 kb/s up: 96.5 kB/s peers: 105) downloading \n",
            "1.06% complete (down: 1053.1 kb/s up: 123.9 kB/s peers: 108) downloading \n",
            "1.32% complete (down: 1067.0 kb/s up: 117.8 kB/s peers: 125) downloading \n",
            "1.57% complete (down: 1161.6 kb/s up: 123.6 kB/s peers: 129) downloading \n",
            "1.87% complete (down: 1320.6 kb/s up: 137.0 kB/s peers: 135) downloading \n",
            "2.18% complete (down: 1608.7 kb/s up: 150.2 kB/s peers: 143) downloading \n",
            "2.48% complete (down: 1722.4 kb/s up: 145.8 kB/s peers: 150) downloading \n",
            "2.83% complete (down: 1203.9 kb/s up: 214.9 kB/s peers: 158) downloading \n",
            "3.07% complete (down: 1343.0 kb/s up: 187.8 kB/s peers: 161) downloading \n",
            "3.30% complete (down: 1330.3 kb/s up: 166.8 kB/s peers: 164) downloading \n",
            "3.45% complete (down: 911.3 kb/s up: 171.4 kB/s peers: 162) downloading \n",
            "3.64% complete (down: 874.4 kb/s up: 146.3 kB/s peers: 157) downloading \n",
            "3.82% complete (down: 751.9 kb/s up: 140.5 kB/s peers: 160) downloading \n",
            "4.05% complete (down: 864.3 kb/s up: 131.2 kB/s peers: 166) downloading \n",
            "4.23% complete (down: 905.2 kb/s up: 114.3 kB/s peers: 171) downloading \n",
            "4.33% complete (down: 677.2 kb/s up: 114.4 kB/s peers: 175) downloading \n",
            "4.42% complete (down: 613.2 kb/s up: 113.8 kB/s peers: 175) downloading \n",
            "4.61% complete (down: 771.5 kb/s up: 115.6 kB/s peers: 174) downloading \n",
            "4.96% complete (down: 1368.4 kb/s up: 131.9 kB/s peers: 177) downloading \n",
            "5.93% complete (down: 2028.3 kb/s up: 143.8 kB/s peers: 171) downloading \n",
            "6.39% complete (down: 2240.3 kb/s up: 143.8 kB/s peers: 171) downloading \n",
            "6.62% complete (down: 1995.2 kb/s up: 132.0 kB/s peers: 170) downloading \n",
            "7.10% complete (down: 2081.1 kb/s up: 142.7 kB/s peers: 171) downloading \n",
            "7.63% complete (down: 1895.2 kb/s up: 145.2 kB/s peers: 176) downloading \n",
            "7.98% complete (down: 2017.1 kb/s up: 155.9 kB/s peers: 174) downloading \n",
            "8.54% complete (down: 2242.6 kb/s up: 155.7 kB/s peers: 171) downloading \n",
            "9.10% complete (down: 2217.7 kb/s up: 140.9 kB/s peers: 177) downloading \n",
            "9.57% complete (down: 2262.2 kb/s up: 132.5 kB/s peers: 180) downloading \n",
            "9.97% complete (down: 2223.1 kb/s up: 133.6 kB/s peers: 181) downloading \n",
            "10.56% complete (down: 2168.4 kb/s up: 131.0 kB/s peers: 185) downloading \n",
            "11.11% complete (down: 2099.3 kb/s up: 134.7 kB/s peers: 182) downloading \n",
            "11.43% complete (down: 1990.8 kb/s up: 128.6 kB/s peers: 180) downloading \n",
            "11.80% complete (down: 1900.6 kb/s up: 153.9 kB/s peers: 178) downloading \n",
            "12.32% complete (down: 1878.1 kb/s up: 154.4 kB/s peers: 177) downloading \n",
            "12.71% complete (down: 2104.9 kb/s up: 148.4 kB/s peers: 179) downloading \n",
            "13.17% complete (down: 1957.5 kb/s up: 137.3 kB/s peers: 182) downloading \n",
            "13.56% complete (down: 2029.3 kb/s up: 142.0 kB/s peers: 180) downloading \n",
            "14.16% complete (down: 2157.5 kb/s up: 149.2 kB/s peers: 181) downloading \n",
            "14.70% complete (down: 1899.5 kb/s up: 139.6 kB/s peers: 180) downloading \n",
            "15.23% complete (down: 2731.4 kb/s up: 170.9 kB/s peers: 177) downloading \n",
            "15.94% complete (down: 2824.6 kb/s up: 215.2 kB/s peers: 174) downloading \n",
            "16.25% complete (down: 1724.2 kb/s up: 379.2 kB/s peers: 177) downloading \n",
            "16.63% complete (down: 1339.9 kb/s up: 375.0 kB/s peers: 179) downloading \n",
            "17.04% complete (down: 1726.5 kb/s up: 359.7 kB/s peers: 183) downloading \n",
            "17.45% complete (down: 1872.7 kb/s up: 309.5 kB/s peers: 183) downloading \n",
            "17.82% complete (down: 1935.8 kb/s up: 226.9 kB/s peers: 184) downloading \n",
            "18.27% complete (down: 2012.4 kb/s up: 199.0 kB/s peers: 185) downloading \n",
            "18.74% complete (down: 2148.0 kb/s up: 191.2 kB/s peers: 183) downloading \n",
            "19.21% complete (down: 1968.7 kb/s up: 165.8 kB/s peers: 181) downloading \n",
            "19.69% complete (down: 1871.2 kb/s up: 146.4 kB/s peers: 184) downloading \n",
            "20.23% complete (down: 1830.1 kb/s up: 139.4 kB/s peers: 183) downloading \n",
            "20.53% complete (down: 1313.2 kb/s up: 140.0 kB/s peers: 181) downloading \n",
            "20.87% complete (down: 1638.3 kb/s up: 157.8 kB/s peers: 185) downloading \n",
            "21.28% complete (down: 1937.3 kb/s up: 170.8 kB/s peers: 186) downloading \n",
            "21.74% complete (down: 2120.2 kb/s up: 151.8 kB/s peers: 188) downloading \n",
            "22.25% complete (down: 2207.3 kb/s up: 146.3 kB/s peers: 191) downloading \n",
            "22.72% complete (down: 2279.7 kb/s up: 148.8 kB/s peers: 190) downloading \n",
            "23.18% complete (down: 2111.1 kb/s up: 143.9 kB/s peers: 187) downloading \n",
            "23.62% complete (down: 2071.4 kb/s up: 137.3 kB/s peers: 188) downloading \n",
            "23.93% complete (down: 1897.4 kb/s up: 121.1 kB/s peers: 184) downloading \n",
            "24.30% complete (down: 1668.2 kb/s up: 118.0 kB/s peers: 185) downloading \n",
            "24.68% complete (down: 1686.6 kb/s up: 109.4 kB/s peers: 183) downloading \n",
            "25.16% complete (down: 1745.3 kb/s up: 114.3 kB/s peers: 181) downloading \n",
            "25.71% complete (down: 1589.1 kb/s up: 108.3 kB/s peers: 179) downloading \n",
            "25.89% complete (down: 1621.2 kb/s up: 105.1 kB/s peers: 182) downloading \n",
            "26.21% complete (down: 1618.4 kb/s up: 108.2 kB/s peers: 184) downloading \n",
            "26.55% complete (down: 1690.7 kb/s up: 111.6 kB/s peers: 184) downloading \n",
            "26.97% complete (down: 1649.7 kb/s up: 118.8 kB/s peers: 188) downloading \n",
            "27.14% complete (down: 1075.0 kb/s up: 105.5 kB/s peers: 188) downloading \n",
            "27.50% complete (down: 1326.5 kb/s up: 122.5 kB/s peers: 188) downloading \n",
            "28.16% complete (down: 2271.6 kb/s up: 139.9 kB/s peers: 188) downloading \n",
            "28.71% complete (down: 2489.8 kb/s up: 144.2 kB/s peers: 188) downloading \n",
            "29.26% complete (down: 2606.3 kb/s up: 131.0 kB/s peers: 187) downloading \n",
            "30.03% complete (down: 2689.5 kb/s up: 137.7 kB/s peers: 184) downloading \n",
            "30.67% complete (down: 2818.8 kb/s up: 125.4 kB/s peers: 186) downloading \n",
            "31.22% complete (down: 2682.3 kb/s up: 118.5 kB/s peers: 190) downloading \n",
            "31.82% complete (down: 2735.8 kb/s up: 126.2 kB/s peers: 188) downloading \n",
            "32.54% complete (down: 2669.3 kb/s up: 139.5 kB/s peers: 183) downloading \n",
            "33.22% complete (down: 2706.2 kb/s up: 136.5 kB/s peers: 185) downloading \n",
            "33.90% complete (down: 2750.8 kb/s up: 141.2 kB/s peers: 186) downloading \n",
            "34.42% complete (down: 2763.6 kb/s up: 138.3 kB/s peers: 185) downloading \n",
            "34.99% complete (down: 2754.4 kb/s up: 133.5 kB/s peers: 185) downloading \n",
            "35.61% complete (down: 2539.6 kb/s up: 124.9 kB/s peers: 185) downloading \n",
            "36.14% complete (down: 2449.6 kb/s up: 139.2 kB/s peers: 183) downloading \n",
            "36.57% complete (down: 2295.6 kb/s up: 144.5 kB/s peers: 180) downloading \n",
            "37.21% complete (down: 2292.7 kb/s up: 136.3 kB/s peers: 180) downloading \n",
            "37.76% complete (down: 2454.6 kb/s up: 142.1 kB/s peers: 181) downloading \n",
            "38.37% complete (down: 2559.0 kb/s up: 145.2 kB/s peers: 180) downloading \n",
            "38.96% complete (down: 2463.4 kb/s up: 151.5 kB/s peers: 178) downloading \n",
            "39.52% complete (down: 2547.8 kb/s up: 150.1 kB/s peers: 176) downloading \n",
            "40.18% complete (down: 2453.5 kb/s up: 146.8 kB/s peers: 179) downloading \n",
            "40.70% complete (down: 2690.5 kb/s up: 143.5 kB/s peers: 181) downloading \n",
            "41.39% complete (down: 2658.3 kb/s up: 159.1 kB/s peers: 186) downloading \n",
            "42.01% complete (down: 2870.3 kb/s up: 155.4 kB/s peers: 186) downloading \n",
            "42.63% complete (down: 2854.1 kb/s up: 151.2 kB/s peers: 187) downloading \n",
            "43.22% complete (down: 2681.7 kb/s up: 135.5 kB/s peers: 189) downloading \n",
            "43.83% complete (down: 2776.5 kb/s up: 147.2 kB/s peers: 189) downloading \n",
            "44.50% complete (down: 2548.2 kb/s up: 136.6 kB/s peers: 189) downloading \n",
            "45.02% complete (down: 2509.9 kb/s up: 135.1 kB/s peers: 192) downloading \n",
            "45.55% complete (down: 2420.4 kb/s up: 131.2 kB/s peers: 192) downloading \n",
            "46.19% complete (down: 2417.9 kb/s up: 135.8 kB/s peers: 191) downloading \n",
            "46.61% complete (down: 2035.6 kb/s up: 128.8 kB/s peers: 187) downloading \n",
            "47.12% complete (down: 2339.1 kb/s up: 148.5 kB/s peers: 188) downloading \n",
            "47.67% complete (down: 2244.6 kb/s up: 147.8 kB/s peers: 187) downloading \n",
            "48.19% complete (down: 2072.7 kb/s up: 144.3 kB/s peers: 188) downloading \n",
            "48.42% complete (down: 1649.3 kb/s up: 134.7 kB/s peers: 190) downloading \n",
            "48.79% complete (down: 1500.3 kb/s up: 134.3 kB/s peers: 193) downloading \n",
            "49.21% complete (down: 1725.1 kb/s up: 133.4 kB/s peers: 193) downloading \n",
            "49.75% complete (down: 1946.3 kb/s up: 137.9 kB/s peers: 196) downloading \n",
            "50.26% complete (down: 2292.6 kb/s up: 135.4 kB/s peers: 195) downloading \n",
            "50.82% complete (down: 2170.8 kb/s up: 132.3 kB/s peers: 193) downloading \n",
            "51.32% complete (down: 2018.9 kb/s up: 130.7 kB/s peers: 191) downloading \n",
            "51.85% complete (down: 2153.5 kb/s up: 137.3 kB/s peers: 192) downloading \n",
            "52.43% complete (down: 2496.5 kb/s up: 139.2 kB/s peers: 192) downloading \n",
            "53.00% complete (down: 2517.5 kb/s up: 140.8 kB/s peers: 191) downloading \n",
            "53.47% complete (down: 2375.0 kb/s up: 131.0 kB/s peers: 190) downloading \n",
            "54.10% complete (down: 2491.0 kb/s up: 139.8 kB/s peers: 187) downloading \n",
            "54.68% complete (down: 2497.2 kb/s up: 139.3 kB/s peers: 186) downloading \n",
            "55.45% complete (down: 2790.9 kb/s up: 139.8 kB/s peers: 187) downloading \n",
            "55.95% complete (down: 2713.7 kb/s up: 135.7 kB/s peers: 187) downloading \n",
            "56.53% complete (down: 2768.9 kb/s up: 132.3 kB/s peers: 184) downloading \n",
            "57.18% complete (down: 2711.3 kb/s up: 136.0 kB/s peers: 189) downloading \n",
            "57.69% complete (down: 2509.6 kb/s up: 132.4 kB/s peers: 191) downloading \n",
            "58.23% complete (down: 2401.2 kb/s up: 120.5 kB/s peers: 190) downloading \n",
            "58.80% complete (down: 2480.6 kb/s up: 125.5 kB/s peers: 189) downloading \n",
            "59.40% complete (down: 2531.8 kb/s up: 127.2 kB/s peers: 189) downloading \n",
            "60.03% complete (down: 2611.9 kb/s up: 136.4 kB/s peers: 187) downloading \n",
            "60.89% complete (down: 2812.7 kb/s up: 151.8 kB/s peers: 185) downloading \n",
            "61.47% complete (down: 2852.1 kb/s up: 142.1 kB/s peers: 186) downloading \n",
            "62.09% complete (down: 2828.7 kb/s up: 140.2 kB/s peers: 186) downloading \n",
            "62.70% complete (down: 2752.9 kb/s up: 140.5 kB/s peers: 181) downloading \n",
            "63.14% complete (down: 2716.0 kb/s up: 137.1 kB/s peers: 182) downloading \n",
            "63.99% complete (down: 2789.1 kb/s up: 148.2 kB/s peers: 182) downloading \n",
            "64.80% complete (down: 2801.8 kb/s up: 150.6 kB/s peers: 185) downloading \n",
            "65.40% complete (down: 2944.0 kb/s up: 141.4 kB/s peers: 182) downloading \n",
            "66.15% complete (down: 2876.8 kb/s up: 133.5 kB/s peers: 184) downloading \n",
            "66.66% complete (down: 2697.4 kb/s up: 138.0 kB/s peers: 185) downloading \n",
            "67.29% complete (down: 2922.2 kb/s up: 156.5 kB/s peers: 183) downloading \n",
            "68.03% complete (down: 3010.7 kb/s up: 154.7 kB/s peers: 187) downloading \n",
            "68.61% complete (down: 2527.3 kb/s up: 151.7 kB/s peers: 184) downloading \n",
            "69.08% complete (down: 2774.9 kb/s up: 145.4 kB/s peers: 183) downloading \n",
            "69.95% complete (down: 2882.6 kb/s up: 144.9 kB/s peers: 186) downloading \n",
            "70.71% complete (down: 2954.9 kb/s up: 142.8 kB/s peers: 187) downloading \n",
            "71.28% complete (down: 2782.8 kb/s up: 140.5 kB/s peers: 186) downloading \n",
            "71.83% complete (down: 2566.2 kb/s up: 129.3 kB/s peers: 186) downloading \n",
            "72.30% complete (down: 2305.2 kb/s up: 133.5 kB/s peers: 185) downloading \n",
            "72.90% complete (down: 2328.3 kb/s up: 151.8 kB/s peers: 190) downloading \n",
            "73.37% complete (down: 2570.8 kb/s up: 147.6 kB/s peers: 189) downloading \n",
            "74.02% complete (down: 2572.7 kb/s up: 143.2 kB/s peers: 186) downloading \n",
            "74.79% complete (down: 2723.4 kb/s up: 141.0 kB/s peers: 186) downloading \n",
            "75.42% complete (down: 2855.2 kb/s up: 137.1 kB/s peers: 184) downloading \n",
            "76.07% complete (down: 2798.5 kb/s up: 128.6 kB/s peers: 185) downloading \n",
            "76.81% complete (down: 2675.8 kb/s up: 140.5 kB/s peers: 185) downloading \n",
            "77.40% complete (down: 2648.4 kb/s up: 136.0 kB/s peers: 181) downloading \n",
            "78.02% complete (down: 2738.5 kb/s up: 130.4 kB/s peers: 180) downloading \n",
            "78.67% complete (down: 2728.1 kb/s up: 133.9 kB/s peers: 186) downloading \n",
            "79.32% complete (down: 2789.6 kb/s up: 131.9 kB/s peers: 187) downloading \n",
            "79.97% complete (down: 2783.5 kb/s up: 124.8 kB/s peers: 188) downloading \n",
            "80.62% complete (down: 2803.4 kb/s up: 126.7 kB/s peers: 191) downloading \n",
            "81.27% complete (down: 2863.6 kb/s up: 124.0 kB/s peers: 191) downloading \n",
            "81.93% complete (down: 2899.1 kb/s up: 126.2 kB/s peers: 192) downloading \n",
            "82.60% complete (down: 2889.9 kb/s up: 130.8 kB/s peers: 189) downloading \n",
            "83.31% complete (down: 2863.2 kb/s up: 130.8 kB/s peers: 184) downloading \n",
            "84.13% complete (down: 3129.0 kb/s up: 147.3 kB/s peers: 186) downloading \n",
            "84.68% complete (down: 2752.0 kb/s up: 136.4 kB/s peers: 186) downloading \n",
            "85.18% complete (down: 2419.2 kb/s up: 123.0 kB/s peers: 185) downloading \n",
            "85.75% complete (down: 2283.9 kb/s up: 116.3 kB/s peers: 187) downloading \n",
            "86.29% complete (down: 2318.9 kb/s up: 120.1 kB/s peers: 189) downloading \n",
            "86.84% complete (down: 2410.5 kb/s up: 123.4 kB/s peers: 189) downloading \n",
            "87.40% complete (down: 2463.0 kb/s up: 120.5 kB/s peers: 186) downloading \n",
            "88.07% complete (down: 2780.1 kb/s up: 130.6 kB/s peers: 186) downloading \n",
            "88.70% complete (down: 2755.3 kb/s up: 123.8 kB/s peers: 187) downloading \n",
            "89.35% complete (down: 2733.3 kb/s up: 129.2 kB/s peers: 188) downloading \n",
            "90.00% complete (down: 2766.4 kb/s up: 129.3 kB/s peers: 188) downloading \n",
            "90.61% complete (down: 2707.6 kb/s up: 128.3 kB/s peers: 188) downloading \n",
            "91.26% complete (down: 2780.0 kb/s up: 130.7 kB/s peers: 188) downloading \n",
            "91.88% complete (down: 2813.3 kb/s up: 128.7 kB/s peers: 187) downloading \n",
            "92.49% complete (down: 2667.7 kb/s up: 121.9 kB/s peers: 187) downloading \n",
            "93.13% complete (down: 2692.1 kb/s up: 126.2 kB/s peers: 188) downloading \n",
            "93.76% complete (down: 2742.0 kb/s up: 137.2 kB/s peers: 189) downloading \n",
            "94.39% complete (down: 2797.2 kb/s up: 138.7 kB/s peers: 189) downloading \n",
            "94.99% complete (down: 2679.6 kb/s up: 138.4 kB/s peers: 186) downloading \n",
            "95.62% complete (down: 2705.0 kb/s up: 139.1 kB/s peers: 183) downloading \n",
            "96.27% complete (down: 2637.0 kb/s up: 129.4 kB/s peers: 182) downloading \n",
            "96.88% complete (down: 2596.0 kb/s up: 126.9 kB/s peers: 182) downloading \n",
            "97.49% complete (down: 2390.9 kb/s up: 137.9 kB/s peers: 178) downloading \n",
            "98.01% complete (down: 2506.4 kb/s up: 135.4 kB/s peers: 175) downloading \n",
            "98.72% complete (down: 2897.3 kb/s up: 149.2 kB/s peers: 177) downloading \n",
            "99.45% complete (down: 3095.2 kb/s up: 157.3 kB/s peers: 178) downloading \n",
            "99.85% complete (down: 1950.9 kb/s up: 134.7 kB/s peers: 177) downloading \n",
            "WandaVision.S01E07.1080p.WEBDL.H264.Atmos-EVO[TGx] COMPLETE\n",
            "Elapsed Time:  16 min : 58 sec\n",
            "2021-02-19 09:26:01.630603\n"
          ],
          "name": "stdout"
        }
      ]
    }
  ]
}