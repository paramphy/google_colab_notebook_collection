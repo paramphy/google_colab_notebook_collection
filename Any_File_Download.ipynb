{
  "nbformat": 4,
  "nbformat_minor": 0,
  "metadata": {
    "colab": {
      "name": "Any File Download.ipynb",
      "provenance": [],
      "toc_visible": true,
      "authorship_tag": "ABX9TyNr0Xy7dIut/5Dj/raGSO1y",
      "include_colab_link": true
    },
    "kernelspec": {
      "name": "python3",
      "display_name": "Python 3"
    }
  },
  "cells": [
    {
      "cell_type": "markdown",
      "metadata": {
        "id": "view-in-github",
        "colab_type": "text"
      },
      "source": [
        "<a href=\"https://colab.research.google.com/github/paramphy/google_colab_notebook_collection/blob/main/Any_File_Download.ipynb\" target=\"_parent\"><img src=\"https://colab.research.google.com/assets/colab-badge.svg\" alt=\"Open In Colab\"/></a>"
      ]
    },
    {
      "cell_type": "markdown",
      "metadata": {
        "id": "J3C6o94JwwpX"
      },
      "source": [
        "# Any File Downloader"
      ]
    },
    {
      "cell_type": "markdown",
      "metadata": {
        "id": "DK_o-zOhxKyA"
      },
      "source": [
        "### Mount Google Drive\r\n",
        "To stream files we need to mount Google Drive."
      ]
    },
    {
      "cell_type": "code",
      "metadata": {
        "id": "qh9gpnOgvp2N"
      },
      "source": [
        "from google.colab import drive\r\n",
        "drive.mount('/content/drive', force_remount = True)"
      ],
      "execution_count": null,
      "outputs": []
    },
    {
      "cell_type": "markdown",
      "metadata": {
        "id": "lMohG2IxyCmd"
      },
      "source": [
        "### Download File Link Input\r\n"
      ]
    },
    {
      "cell_type": "code",
      "metadata": {
        "id": "WBHJfG-7yjxz"
      },
      "source": [
        "#@title Example form fields\n",
        "#@markdown Forms support many types of fields.\n",
        "\n",
        "download_link = ''  #@param {type: \"string\"}\n",
        "file_name = ''  #@param {type: \"string\"}\n",
        "\n",
        "#@markdown ---\n"
      ],
      "execution_count": null,
      "outputs": []
    },
    {
      "cell_type": "markdown",
      "metadata": {
        "id": "7GlwfdUrxhUg"
      },
      "source": [
        "### Code to download Files"
      ]
    },
    {
      "cell_type": "code",
      "metadata": {
        "id": "0oPuXmQ_vzuU"
      },
      "source": [
        "!wget -O file_name download_link"
      ],
      "execution_count": null,
      "outputs": []
    }
  ]
}