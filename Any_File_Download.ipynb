{
  "nbformat": 4,
  "nbformat_minor": 0,
  "metadata": {
    "colab": {
      "name": "Any File Download.ipynb",
      "provenance": [],
      "authorship_tag": "ABX9TyPDYbkdaoF7eTip8piU2vUa",
      "include_colab_link": true
    },
    "kernelspec": {
      "name": "python3",
      "display_name": "Python 3"
    }
  },
  "cells": [
    {
      "cell_type": "markdown",
      "metadata": {
        "id": "view-in-github",
        "colab_type": "text"
      },
      "source": [
        "<a href=\"https://colab.research.google.com/github/paramphy/google_colab_notebook_collection/blob/main/Any_File_Download.ipynb\" target=\"_parent\"><img src=\"https://colab.research.google.com/assets/colab-badge.svg\" alt=\"Open In Colab\"/></a>"
      ]
    },
    {
      "cell_type": "code",
      "metadata": {
        "id": "qh9gpnOgvp2N"
      },
      "source": [
        "from google.colab import drive\r\n",
        "drive.mount('/content/drive', force_remount = True)"
      ],
      "execution_count": null,
      "outputs": []
    },
    {
      "cell_type": "code",
      "metadata": {
        "id": "m6B9LhyMvwMm"
      },
      "source": [
        "!mkdir \"/content/drive/My Drive/Download\""
      ],
      "execution_count": null,
      "outputs": []
    },
    {
      "cell_type": "code",
      "metadata": {
        "id": "0oPuXmQ_vzuU"
      },
      "source": [
        "!wget -O '/content/drive/My Drive/Download/img1.jpg' \"https://unsplash.com/photos/u159a2eL6UE/download?force=true\""
      ],
      "execution_count": null,
      "outputs": []
    }
  ]
}