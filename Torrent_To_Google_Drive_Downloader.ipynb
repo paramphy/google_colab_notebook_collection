{
  "nbformat": 4,
  "nbformat_minor": 0,
  "metadata": {
    "colab": {
      "name": "Torrent To Google Drive Downloader v2",
      "provenance": [],
      "collapsed_sections": [],
      "toc_visible": true,
      "include_colab_link": true
    },
    "kernelspec": {
      "name": "python3",
      "display_name": "Python 3"
    }
  },
  "cells": [
    {
      "cell_type": "markdown",
      "metadata": {
        "id": "view-in-github",
        "colab_type": "text"
      },
      "source": [
        "<a href=\"https://colab.research.google.com/github/paramphy/google_colab_notebook_collection/blob/main/Torrent_To_Google_Drive_Downloader.ipynb\" target=\"_parent\"><img src=\"https://colab.research.google.com/assets/colab-badge.svg\" alt=\"Open In Colab\"/></a>"
      ]
    },
    {
      "cell_type": "markdown",
      "metadata": {
        "id": "aQuWDmfm9YOi"
      },
      "source": [
        "# Torrent To Google Drive Downloader v2"
      ]
    },
    {
      "cell_type": "markdown",
      "metadata": {
        "id": "Uf90U73y9YOj"
      },
      "source": [
        "### Mount Google Drive\n",
        "To stream files we need to mount Google Drive."
      ]
    },
    {
      "cell_type": "code",
      "metadata": {
        "id": "oWM9l2fvtuvO",
        "colab": {
          "base_uri": "https://localhost:8080/"
        },
        "outputId": "dc32e0be-a993-4705-e113-a7e2ee8e7247"
      },
      "source": [
        "from google.colab import drive\n",
        "drive.mount('/content/drive')"
      ],
      "execution_count": 1,
      "outputs": [
        {
          "output_type": "stream",
          "text": [
            "Mounted at /content/drive\n"
          ],
          "name": "stdout"
        }
      ]
    },
    {
      "cell_type": "markdown",
      "metadata": {
        "id": "FexiyATtNwTG"
      },
      "source": [
        "###Dependency\n",
        "https://www.libtorrent.org/"
      ]
    },
    {
      "cell_type": "code",
      "metadata": {
        "id": "m6hF0emftx4h",
        "colab": {
          "base_uri": "https://localhost:8080/"
        },
        "outputId": "8f731c09-e10f-4a66-cf83-41e673b09f82"
      },
      "source": [
        "!apt install python3-libtorrent"
      ],
      "execution_count": 7,
      "outputs": [
        {
          "output_type": "stream",
          "text": [
            "Reading package lists... Done\n",
            "Building dependency tree       \n",
            "Reading state information... Done\n",
            "python3-libtorrent is already the newest version (1.1.5-1build1).\n",
            "0 upgraded, 0 newly installed, 0 to remove and 15 not upgraded.\n",
            "\u001b[H\u001b[2J"
          ],
          "name": "stdout"
        }
      ]
    },
    {
      "cell_type": "code",
      "metadata": {
        "id": "fddqabwKnn3U"
      },
      "source": [
        "#@title Input Link and Catagory\n",
        "\n",
        "Add_the_Magnet_Link = ''  #@param {type: \"string\"}\n",
        "Catagory = \"Games\"  #@param ['Games', 'Movies', 'Softwares', 'TVSeries',\"Others\"]\n",
        "#@markdown ---\n"
      ],
      "execution_count": null,
      "outputs": []
    },
    {
      "cell_type": "code",
      "metadata": {
        "id": "abyNT3dFpnSF"
      },
      "source": [
        "save_path = '/content/drive/My Drive/Torrent/' + Catagory + \"/\"\r\n",
        "link = Add_the_Magnet_Link"
      ],
      "execution_count": null,
      "outputs": []
    },
    {
      "cell_type": "markdown",
      "metadata": {
        "id": "tqKcWHZcYRIA"
      },
      "source": [
        "### Code to download torrent\n",
        "Variable **link** stores the link string."
      ]
    },
    {
      "cell_type": "code",
      "metadata": {
        "id": "b09BxnANO2ep",
        "colab": {
          "base_uri": "https://localhost:8080/"
        },
        "outputId": "9e6c2a26-32c1-4944-d74c-2f890863329c"
      },
      "source": [
        "import libtorrent as lt\n",
        "import time\n",
        "import datetime\n",
        "\n",
        "ses = lt.session()\n",
        "ses.listen_on(6881, 6891)\n",
        "params = {\n",
        "    'save_path': save_path,\n",
        "    'storage_mode': lt.storage_mode_t(2),\n",
        "    'paused': False,\n",
        "    'auto_managed': True,\n",
        "    'duplicate_is_error': True}\n",
        "    \n",
        "linklist = [link] # PASTE TORRENT/MAGNET LINK HERE\n",
        "for link in linklist:\n",
        "    print(link)\n",
        "\n",
        "    handle = lt.add_magnet_uri(ses, link, params)\n",
        "    ses.start_dht()\n",
        "\n",
        "    begin = time.time()\n",
        "    print(datetime.datetime.now())\n",
        "\n",
        "    print ('Downloading Metadata...')\n",
        "    while (not handle.has_metadata()):\n",
        "        time.sleep(1)\n",
        "    print ('Got Metadata, Starting Torrent Download...')\n",
        "\n",
        "    print(\"Starting\", handle.name())\n",
        "\n",
        "    while (handle.status().state != lt.torrent_status.seeding):\n",
        "        s = handle.status()\n",
        "        state_str = ['queued', 'checking', 'downloading metadata', \\\n",
        "                'downloading', 'finished', 'seeding', 'allocating']\n",
        "        print ('%.2f%% complete (down: %.1f kb/s up: %.1f kB/s peers: %d) %s ' % \\\n",
        "                (s.progress * 100, s.download_rate / 1000, s.upload_rate / 1000, \\\n",
        "                s.num_peers, state_str[s.state]))\n",
        "        time.sleep(5)\n",
        "\n",
        "    end = time.time()\n",
        "    print(handle.name(), \"COMPLETE\")\n",
        "\n",
        "    print(\"Elapsed Time: \",int((end-begin)//60),\"min :\", int((end-begin)%60), \"sec\")\n",
        "\n",
        "    print(datetime.datetime.now())"
      ],
      "execution_count": 6,
      "outputs": [
        {
          "output_type": "stream",
          "text": [
            "magnet:?xt=urn:btih:4311D3269576181C4159AC74721A408E480A6809&dn=&tr=udp%3A%2F%2Ftracker.openbittorrent.com%3A80&tr=udp%3A%2F%2Fopentor.org%3A2710&tr=udp%3A%2F%2Ftracker.ccc.de%3A80&tr=udp%3A%2F%2Ftracker.blackunicorn.xyz%3A6969&tr=udp%3A%2F%2Ftracker.coppersurfer.tk%3A6969&tr=udp%3A%2F%2Ftracker.leechers-paradise.org%3A6969\n",
            "2021-02-11 14:51:56.816174\n",
            "Downloading Metadata...\n",
            "Got Metadata, Starting Torrent Download...\n",
            "Starting Extraction (2020) UNTOUCHED 720p NF WEBRip Dual Audio [Hindi + English] DD-5.1  ⭐950 MB⭐ MSub x264 - Shadow\n",
            "0.00% complete (down: 4.3 kb/s up: 0.6 kB/s peers: 6) downloading \n",
            "0.05% complete (down: 94.7 kb/s up: 3.9 kB/s peers: 15) downloading \n",
            "0.21% complete (down: 285.2 kb/s up: 10.3 kB/s peers: 16) downloading \n",
            "0.28% complete (down: 395.5 kb/s up: 12.5 kB/s peers: 11) downloading \n",
            "0.41% complete (down: 381.6 kb/s up: 11.7 kB/s peers: 4) downloading \n",
            "0.59% complete (down: 404.2 kb/s up: 12.1 kB/s peers: 3) downloading \n",
            "1.07% complete (down: 527.9 kb/s up: 16.2 kB/s peers: 3) downloading \n",
            "1.33% complete (down: 540.0 kb/s up: 16.5 kB/s peers: 4) downloading \n",
            "1.61% complete (down: 595.6 kb/s up: 37.6 kB/s peers: 7) downloading \n",
            "1.74% complete (down: 519.7 kb/s up: 22.5 kB/s peers: 6) downloading \n",
            "2.05% complete (down: 560.4 kb/s up: 19.1 kB/s peers: 6) downloading \n",
            "2.63% complete (down: 932.1 kb/s up: 29.8 kB/s peers: 6) downloading \n",
            "3.22% complete (down: 1182.5 kb/s up: 37.3 kB/s peers: 6) downloading \n",
            "3.98% complete (down: 1471.9 kb/s up: 46.1 kB/s peers: 7) downloading \n",
            "4.67% complete (down: 1470.7 kb/s up: 46.5 kB/s peers: 14) downloading \n",
            "5.69% complete (down: 1888.3 kb/s up: 59.5 kB/s peers: 18) downloading \n",
            "6.61% complete (down: 1923.0 kb/s up: 61.1 kB/s peers: 18) downloading \n",
            "6.91% complete (down: 1065.9 kb/s up: 33.5 kB/s peers: 16) downloading \n",
            "7.17% complete (down: 697.7 kb/s up: 20.9 kB/s peers: 7) downloading \n",
            "7.58% complete (down: 766.3 kb/s up: 23.0 kB/s peers: 5) downloading \n",
            "8.23% complete (down: 1183.0 kb/s up: 36.8 kB/s peers: 5) downloading \n",
            "9.19% complete (down: 1663.9 kb/s up: 52.4 kB/s peers: 5) downloading \n",
            "10.02% complete (down: 1833.8 kb/s up: 57.5 kB/s peers: 4) downloading \n",
            "10.47% complete (down: 1212.7 kb/s up: 37.6 kB/s peers: 4) downloading \n",
            "10.55% complete (down: 621.6 kb/s up: 18.7 kB/s peers: 4) downloading \n",
            "10.95% complete (down: 678.3 kb/s up: 20.3 kB/s peers: 4) downloading \n",
            "11.36% complete (down: 774.0 kb/s up: 24.2 kB/s peers: 4) downloading \n",
            "11.82% complete (down: 877.3 kb/s up: 27.7 kB/s peers: 5) downloading \n",
            "12.36% complete (down: 1081.6 kb/s up: 34.1 kB/s peers: 5) downloading \n",
            "12.66% complete (down: 763.7 kb/s up: 23.6 kB/s peers: 4) downloading \n",
            "12.89% complete (down: 588.0 kb/s up: 18.0 kB/s peers: 5) downloading \n",
            "13.35% complete (down: 853.1 kb/s up: 26.4 kB/s peers: 6) downloading \n",
            "13.69% complete (down: 783.2 kb/s up: 24.6 kB/s peers: 7) downloading \n",
            "14.29% complete (down: 1072.3 kb/s up: 33.7 kB/s peers: 6) downloading \n",
            "15.03% complete (down: 1448.9 kb/s up: 45.4 kB/s peers: 6) downloading \n",
            "15.89% complete (down: 1674.9 kb/s up: 52.5 kB/s peers: 4) downloading \n",
            "16.54% complete (down: 1351.0 kb/s up: 41.7 kB/s peers: 4) downloading \n",
            "16.87% complete (down: 921.7 kb/s up: 59.9 kB/s peers: 6) downloading \n",
            "17.53% complete (down: 1231.5 kb/s up: 48.9 kB/s peers: 6) downloading \n",
            "18.54% complete (down: 1803.5 kb/s up: 69.4 kB/s peers: 5) downloading \n",
            "19.79% complete (down: 2293.6 kb/s up: 75.7 kB/s peers: 5) downloading \n",
            "20.97% complete (down: 2536.3 kb/s up: 80.9 kB/s peers: 13) downloading \n",
            "22.60% complete (down: 3214.3 kb/s up: 101.4 kB/s peers: 20) downloading \n",
            "24.43% complete (down: 3554.0 kb/s up: 111.6 kB/s peers: 20) downloading \n",
            "26.12% complete (down: 3607.1 kb/s up: 113.0 kB/s peers: 16) downloading \n",
            "27.72% complete (down: 3526.6 kb/s up: 110.1 kB/s peers: 10) downloading \n",
            "29.35% complete (down: 3467.3 kb/s up: 108.4 kB/s peers: 11) downloading \n",
            "30.93% complete (down: 3438.0 kb/s up: 107.6 kB/s peers: 11) downloading \n",
            "32.51% complete (down: 3390.2 kb/s up: 105.9 kB/s peers: 10) downloading \n",
            "34.15% complete (down: 3343.4 kb/s up: 104.3 kB/s peers: 11) downloading \n",
            "35.76% complete (down: 3296.0 kb/s up: 102.2 kB/s peers: 10) downloading \n",
            "37.27% complete (down: 3304.5 kb/s up: 102.8 kB/s peers: 11) downloading \n",
            "39.06% complete (down: 3573.6 kb/s up: 121.5 kB/s peers: 13) downloading \n",
            "41.04% complete (down: 3865.6 kb/s up: 138.3 kB/s peers: 13) downloading \n",
            "43.24% complete (down: 4611.7 kb/s up: 150.6 kB/s peers: 13) downloading \n",
            "44.82% complete (down: 3791.5 kb/s up: 119.9 kB/s peers: 13) downloading \n",
            "46.43% complete (down: 3601.6 kb/s up: 112.9 kB/s peers: 13) downloading \n",
            "47.98% complete (down: 3351.1 kb/s up: 104.4 kB/s peers: 13) downloading \n",
            "49.59% complete (down: 3348.4 kb/s up: 104.5 kB/s peers: 12) downloading \n",
            "51.15% complete (down: 3284.0 kb/s up: 102.5 kB/s peers: 12) downloading \n",
            "52.66% complete (down: 3262.5 kb/s up: 101.8 kB/s peers: 12) downloading \n",
            "54.23% complete (down: 3300.7 kb/s up: 103.4 kB/s peers: 12) downloading \n",
            "55.88% complete (down: 3419.6 kb/s up: 107.5 kB/s peers: 14) downloading \n",
            "57.35% complete (down: 3350.9 kb/s up: 105.3 kB/s peers: 14) downloading \n",
            "58.87% complete (down: 3311.0 kb/s up: 103.5 kB/s peers: 13) downloading \n",
            "60.39% complete (down: 3231.8 kb/s up: 101.1 kB/s peers: 13) downloading \n",
            "61.88% complete (down: 3231.9 kb/s up: 101.2 kB/s peers: 14) downloading \n",
            "63.40% complete (down: 3185.0 kb/s up: 100.0 kB/s peers: 18) downloading \n",
            "64.92% complete (down: 3227.7 kb/s up: 101.4 kB/s peers: 21) downloading \n",
            "66.35% complete (down: 3199.0 kb/s up: 101.0 kB/s peers: 25) downloading \n",
            "67.79% complete (down: 3003.7 kb/s up: 102.5 kB/s peers: 21) downloading \n",
            "69.08% complete (down: 2936.1 kb/s up: 102.4 kB/s peers: 14) downloading \n",
            "70.45% complete (down: 2951.9 kb/s up: 105.0 kB/s peers: 15) downloading \n",
            "71.93% complete (down: 3144.3 kb/s up: 104.6 kB/s peers: 15) downloading \n",
            "73.38% complete (down: 3157.3 kb/s up: 103.9 kB/s peers: 13) downloading \n",
            "75.03% complete (down: 3184.1 kb/s up: 103.4 kB/s peers: 13) downloading \n",
            "76.68% complete (down: 3334.0 kb/s up: 106.1 kB/s peers: 13) downloading \n",
            "78.27% complete (down: 3460.1 kb/s up: 107.5 kB/s peers: 13) downloading \n",
            "79.92% complete (down: 3487.8 kb/s up: 112.5 kB/s peers: 14) downloading \n",
            "81.42% complete (down: 3226.3 kb/s up: 109.6 kB/s peers: 15) downloading \n",
            "82.91% complete (down: 3158.6 kb/s up: 109.9 kB/s peers: 15) downloading \n",
            "84.29% complete (down: 3003.0 kb/s up: 108.0 kB/s peers: 15) downloading \n",
            "85.47% complete (down: 2839.5 kb/s up: 103.2 kB/s peers: 15) downloading \n",
            "86.62% complete (down: 2610.6 kb/s up: 99.1 kB/s peers: 15) downloading \n",
            "87.72% complete (down: 2469.7 kb/s up: 102.0 kB/s peers: 15) downloading \n",
            "88.83% complete (down: 2367.1 kb/s up: 100.3 kB/s peers: 16) downloading \n",
            "89.92% complete (down: 2308.2 kb/s up: 101.6 kB/s peers: 18) downloading \n",
            "91.10% complete (down: 2434.6 kb/s up: 103.8 kB/s peers: 18) downloading \n",
            "92.21% complete (down: 2396.6 kb/s up: 102.8 kB/s peers: 18) downloading \n",
            "93.11% complete (down: 2132.2 kb/s up: 97.9 kB/s peers: 17) downloading \n",
            "93.97% complete (down: 1990.5 kb/s up: 98.1 kB/s peers: 16) downloading \n",
            "94.94% complete (down: 1990.8 kb/s up: 97.3 kB/s peers: 15) downloading \n",
            "95.90% complete (down: 2044.2 kb/s up: 98.9 kB/s peers: 14) downloading \n",
            "96.85% complete (down: 2022.4 kb/s up: 96.7 kB/s peers: 14) downloading \n",
            "97.72% complete (down: 1921.4 kb/s up: 97.7 kB/s peers: 14) downloading \n",
            "98.51% complete (down: 1813.9 kb/s up: 96.7 kB/s peers: 14) downloading \n",
            "99.42% complete (down: 1862.4 kb/s up: 95.7 kB/s peers: 15) downloading \n",
            "Extraction (2020) UNTOUCHED 720p NF WEBRip Dual Audio [Hindi + English] DD-5.1  ⭐950 MB⭐ MSub x264 - Shadow COMPLETE\n",
            "Elapsed Time:  8 min : 11 sec\n",
            "2021-02-11 15:00:08.238101\n"
          ],
          "name": "stdout"
        }
      ]
    }
  ]
}